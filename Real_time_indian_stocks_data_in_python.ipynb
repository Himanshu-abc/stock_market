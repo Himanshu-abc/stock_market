{
  "nbformat": 4,
  "nbformat_minor": 0,
  "metadata": {
    "colab": {
      "provenance": [],
      "authorship_tag": "ABX9TyOuXBTkISIjU38CMqnbILjw",
      "include_colab_link": true
    },
    "kernelspec": {
      "name": "python3",
      "display_name": "Python 3"
    },
    "language_info": {
      "name": "python"
    }
  },
  "cells": [
    {
      "cell_type": "markdown",
      "metadata": {
        "id": "view-in-github",
        "colab_type": "text"
      },
      "source": [
        "<a href=\"https://colab.research.google.com/github/Himanshu-abc/stock_market/blob/main/Real_time_indian_stocks_data_in_python.ipynb\" target=\"_parent\"><img src=\"https://colab.research.google.com/assets/colab-badge.svg\" alt=\"Open In Colab\"/></a>"
      ]
    },
    {
      "cell_type": "code",
      "execution_count": null,
      "metadata": {
        "id": "yE954GVQHoFZ"
      },
      "outputs": [],
      "source": [
        "url1 = 'https://www.google.com/finance/quote/INFY:NSE?hl=en'\n",
        "url2 = 'https://www.google.com/finance/quote/500209:BOM?hl=en'"
      ]
    },
    {
      "cell_type": "code",
      "source": [
        "import requests\n",
        "from bs4 import BeautifulSoup\n",
        "import time"
      ],
      "metadata": {
        "id": "7FDgSfCiIuCg"
      },
      "execution_count": 1,
      "outputs": []
    },
    {
      "cell_type": "code",
      "source": [
        "ticker = \"INFY\" # Ticker\n",
        "exchange = \"NSE\" # NSE, BOM\n",
        "url = f'https://www.google.com/finance/quote/{ticker}:{exchange}?hl=en'\n",
        "\n",
        "for i in range(3):\n",
        "  response = requests.get(url)\n",
        "  soup = BeautifulSoup(response.text, 'html.parser')\n",
        "  class1 = 'YMlKec fxKbKc'\n",
        "  price = float(soup.find(class_=class1).text.strip()[1:].replace(',',''))\n",
        "  print(price)\n",
        "  time.sleep(0.01)"
      ],
      "metadata": {
        "colab": {
          "base_uri": "https://localhost:8080/"
        },
        "id": "tZ8Jz5OXIuHX",
        "outputId": "2f8bbc56-5119-4ba0-e1d8-1c6ba6d4d017"
      },
      "execution_count": 24,
      "outputs": [
        {
          "output_type": "stream",
          "name": "stdout",
          "text": [
            "1949.85\n",
            "1949.85\n",
            "1949.85\n"
          ]
        }
      ]
    },
    {
      "cell_type": "code",
      "source": [],
      "metadata": {
        "id": "2Hf94KyWNawa"
      },
      "execution_count": null,
      "outputs": []
    },
    {
      "cell_type": "code",
      "source": [],
      "metadata": {
        "id": "b0k265E9cm2f"
      },
      "execution_count": null,
      "outputs": []
    },
    {
      "cell_type": "code",
      "source": [],
      "metadata": {
        "id": "vD0fPgFWcm5R"
      },
      "execution_count": null,
      "outputs": []
    },
    {
      "cell_type": "code",
      "source": [],
      "metadata": {
        "id": "AwXZKto-cm8U"
      },
      "execution_count": null,
      "outputs": []
    },
    {
      "cell_type": "code",
      "source": [],
      "metadata": {
        "id": "nHVZP2dMIuKd"
      },
      "execution_count": null,
      "outputs": []
    }
  ]
}